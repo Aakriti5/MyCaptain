{
 "cells": [
  {
   "cell_type": "code",
   "execution_count": 1,
   "metadata": {},
   "outputs": [
    {
     "name": "stdout",
     "output_type": "stream",
     "text": [
      "[1, 2, 3, 4, 5, 6, 7] [8, 9, 10, 11, 12, 13]\n"
     ]
    }
   ],
   "source": [
    "list1=[1,2,3,4,5,6,7]\n",
    "list2=[8,9,10,11,12,13]\n",
    "\n",
    "print(list1,list2)"
   ]
  },
  {
   "cell_type": "code",
   "execution_count": 2,
   "metadata": {},
   "outputs": [
    {
     "name": "stdout",
     "output_type": "stream",
     "text": [
      "3\n"
     ]
    }
   ],
   "source": [
    "list1=[1,2,3,4,5,6,7]\n",
    "list2=[8,9,10,11,12,13]\n",
    "\n",
    "print(list1[2])"
   ]
  },
  {
   "cell_type": "code",
   "execution_count": 3,
   "metadata": {},
   "outputs": [
    {
     "name": "stdout",
     "output_type": "stream",
     "text": [
      "11\n"
     ]
    }
   ],
   "source": [
    "list1=[1,2,3,4,5,6,7]\n",
    "list2=[8,9,10,11,12,13]\n",
    "\n",
    "print(list2[3])"
   ]
  },
  {
   "cell_type": "code",
   "execution_count": 4,
   "metadata": {},
   "outputs": [
    {
     "name": "stdout",
     "output_type": "stream",
     "text": [
      "4 11\n"
     ]
    }
   ],
   "source": [
    "list1=[1,2,3,4,5,6,7]\n",
    "list2=[8,9,10,11,12,13]\n",
    "\n",
    "print(list1[3],list2[3])"
   ]
  },
  {
   "cell_type": "code",
   "execution_count": 5,
   "metadata": {},
   "outputs": [
    {
     "name": "stdout",
     "output_type": "stream",
     "text": [
      "(1, 2, 3, 4, 5, 6, 7)\n",
      "3\n"
     ]
    }
   ],
   "source": [
    "tuple1=(1,2,3,4,5,6,7)\n",
    "\n",
    "print(tuple1)\n",
    "print(tuple1[2])"
   ]
  },
  {
   "cell_type": "code",
   "execution_count": 8,
   "metadata": {},
   "outputs": [
    {
     "name": "stdout",
     "output_type": "stream",
     "text": [
      "{'Book1': 'Physics', 'Book2': 'Chemistry', 'Book3': 'Maths'} {'Fruit1': 'Mango', 'Fruit2': 'Apple', 'Fruit3': 'Grapes'}\n"
     ]
    }
   ],
   "source": [
    "dict1={\"Book1\":\"Physics\",\"Book2\":\"Chemistry\",\"Book3\":\"Maths\"}\n",
    "dict2={\"Fruit1\":\"Mango\",\"Fruit2\":\"Apple\",\"Fruit3\":\"Grapes\"}\n",
    "\n",
    "print(dict1,dict2)"
   ]
  },
  {
   "cell_type": "code",
   "execution_count": 10,
   "metadata": {},
   "outputs": [
    {
     "name": "stdout",
     "output_type": "stream",
     "text": [
      "{'Book1': 'Physics', 'Book2': 'Chemistry', 'Book3': 'Maths'}\n",
      "{'Book1': 'Physics', 'Book3': 'Maths'}\n"
     ]
    }
   ],
   "source": [
    "dict1={\"Book1\":\"Physics\",\"Book2\":\"Chemistry\",\"Book3\":\"Maths\"}\n",
    "dict2={\"Fruit1\":\"Mango\",\"Fruit2\":\"Apple\",\"Fruit3\":\"Grapes\"}\n",
    "\n",
    "print(dict1)\n",
    "del dict1[\"Book2\"]\n",
    "print(dict1)"
   ]
  },
  {
   "cell_type": "code",
   "execution_count": 12,
   "metadata": {},
   "outputs": [
    {
     "name": "stdout",
     "output_type": "stream",
     "text": [
      "{'Fruit1': 'Mango', 'Fruit2': 'Apple', 'Fruit3': 'Grapes'}\n",
      "{'Fruit1': 'Mango', 'Fruit3': 'Grapes'}\n"
     ]
    }
   ],
   "source": [
    "dict1={\"Book1\":\"Physics\",\"Book2\":\"Chemistry\",\"Book3\":\"Maths\"}\n",
    "dict2={\"Fruit1\":\"Mango\",\"Fruit2\":\"Apple\",\"Fruit3\":\"Grapes\"}\n",
    "\n",
    "print(dict2)\n",
    "del dict2[\"Fruit2\"]\n",
    "print(dict2)"
   ]
  },
  {
   "cell_type": "code",
   "execution_count": null,
   "metadata": {},
   "outputs": [],
   "source": []
  }
 ],
 "metadata": {
  "kernelspec": {
   "display_name": "Python 3",
   "language": "python",
   "name": "python3"
  },
  "language_info": {
   "codemirror_mode": {
    "name": "ipython",
    "version": 3
   },
   "file_extension": ".py",
   "mimetype": "text/x-python",
   "name": "python",
   "nbconvert_exporter": "python",
   "pygments_lexer": "ipython3",
   "version": "3.7.6"
  }
 },
 "nbformat": 4,
 "nbformat_minor": 4
}
